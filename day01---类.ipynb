{
 "cells": [
  {
   "cell_type": "code",
   "execution_count": 1,
   "metadata": {},
   "outputs": [
    {
     "name": "stdout",
     "output_type": "stream",
     "text": [
      "4\n"
     ]
    }
   ],
   "source": [
    "\"\"\"\n",
    "定义一个函数，求这个数的平方\n",
    "\"\"\"\n",
    "def number(self):\n",
    "    a=self*self\n",
    "    return a \n",
    "\n",
    "self = number(2)\n",
    "print(self)"
   ]
  },
  {
   "cell_type": "code",
   "execution_count": 8,
   "metadata": {},
   "outputs": [],
   "source": [
    "import sys, time"
   ]
  },
  {
   "cell_type": "code",
   "execution_count": 10,
   "metadata": {},
   "outputs": [
    {
     "name": "stdout",
     "output_type": "stream",
     "text": [
      "[>>>>>>>>>>>>>>>>>>>>>>>>>>>>>>>>>>>>>>>>>>>>>>>>>>]100.00%\n",
      "OK\n"
     ]
    }
   ],
   "source": [
    "class ShowProcess():\n",
    "    \"\"\"\n",
    "    显示处理进度的类\n",
    "    调用该类相关函数即可实现处理进度的显示\n",
    "    \"\"\"\n",
    "    i = 0 # 当前的处理进度\n",
    "    max_steps = 0 # 总共需要处理的次数\n",
    "    max_arrow = 50 #进度条的长度\n",
    "    infoDone = 'done'\n",
    "\n",
    "    # 初始化函数，需要知道总共的处理次数\n",
    "    def __init__(self, max_steps, infoDone = 'Done'):\n",
    "        self.max_steps = max_steps\n",
    "        self.i = 0\n",
    "        self.infoDone = infoDone\n",
    "\n",
    "    # 显示函数，根据当前的处理进度i显示进度\n",
    "    def show_process(self, i=None):\n",
    "        if i is not None:\n",
    "            self.i = i\n",
    "        else:\n",
    "            self.i += 1\n",
    "        num_arrow = int(self.i * self.max_arrow / self.max_steps) #计算显示多少个'>'\n",
    "        num_line = self.max_arrow - num_arrow #计算显示多少个'-'\n",
    "        percent = self.i * 100.0 / self.max_steps #计算完成进度，格式为xx.xx%\n",
    "        process_bar = '[' + '>' * num_arrow + '-' * num_line + ']'\\\n",
    "                      + '%.2f' % percent + '%' + '\\r' #带输出的字符串，'\\r'表示不换行回到最左边\n",
    "        sys.stdout.write(process_bar) #这两句打印字符到终端\n",
    "        sys.stdout.flush()\n",
    "        if self.i >= self.max_steps:\n",
    "            self.close()\n",
    "\n",
    "    def close(self):\n",
    "        print('')\n",
    "        print(self.infoDone)\n",
    "        self.i = 0\n",
    "\n",
    "if __name__=='__main__':\n",
    "    max_steps = 100\n",
    "\n",
    "    process_bar = ShowProcess(max_steps, 'OK')\n",
    "\n",
    "    for i in range(max_steps):\n",
    "        process_bar.show_process()\n",
    "        time.sleep(0.01)"
   ]
  },
  {
   "cell_type": "code",
   "execution_count": 2,
   "metadata": {},
   "outputs": [
    {
     "name": "stdout",
     "output_type": "stream",
     "text": [
      ">>>>>>>>>>>>>>>>>>>>>>>>>>>>>>>>>>>>>>>>>>>>>>>>>>>>>>>>>>>>>>>>>>>>>>>>>>>>>>>>>>>>>>>>>>>>>>>>>>>>100% \r"
     ]
    }
   ],
   "source": [
    "\"\"\"\n",
    "简单进度条的实现\n",
    "\"\"\"\n",
    "import time\n",
    "def vera():\n",
    "    for i in range(1,101):\n",
    "        time.sleep(0.01)  #沉睡1秒\n",
    "        #格式化输出    |r回到顶点\n",
    "        print('%s%d%% \\r'%('>'*i,i),end='',flush=True)\n",
    "        \n",
    "vera()"
   ]
  },
  {
   "cell_type": "code",
   "execution_count": 3,
   "metadata": {},
   "outputs": [
    {
     "name": "stdout",
     "output_type": "stream",
     "text": [
      "2 6 8 2.0 2 0 16 4\n"
     ]
    },
    {
     "data": {
      "text/plain": [
       "<__main__.Number at 0x1caa733c128>"
      ]
     },
     "execution_count": 3,
     "metadata": {},
     "output_type": "execute_result"
    }
   ],
   "source": [
    "\"\"\"\n",
    "计算两个数的加减乘除整除取余......\n",
    "\"\"\"\n",
    "class Number(object):\n",
    "    def __init__(self,a,b):\n",
    "        print(a-b,a+b,a*b,a/b,a//b,a%b,a**2,b**2)\n",
    "        \n",
    "Number(4,2)"
   ]
  },
  {
   "cell_type": "code",
   "execution_count": 4,
   "metadata": {},
   "outputs": [
    {
     "name": "stdout",
     "output_type": "stream",
     "text": [
      "17 岁:只能观看动画片\n",
      "19 岁:可以观看4级片\n",
      "38 岁:能观看岛国\n",
      "52 岁:别看了，扛不住的\n"
     ]
    },
    {
     "data": {
      "text/plain": [
       "<__main__.age at 0x1caa7335c50>"
      ]
     },
     "execution_count": 4,
     "metadata": {},
     "output_type": "execute_result"
    }
   ],
   "source": [
    "class age(object):\n",
    "    def __init__(self,a):\n",
    "        if 18<=a<=20:\n",
    "            print(a,\"岁:可以观看4级片\")\n",
    "        elif 20<a<50 :\n",
    "            print(a,\"岁:能观看岛国\")\n",
    "        elif a>=50:\n",
    "            print(a,\"岁:别看了，扛不住的\")\n",
    "        else:\n",
    "            print(a,\"岁:只能观看动画片\")\n",
    "age(17)\n",
    "age(19)\n",
    "age(38)\n",
    "age(52)"
   ]
  },
  {
   "cell_type": "code",
   "execution_count": 5,
   "metadata": {},
   "outputs": [
    {
     "name": "stdout",
     "output_type": "stream",
     "text": [
      "13 :年轻\n",
      "man\n"
     ]
    }
   ],
   "source": [
    "class vera(object):\n",
    "    def __init__(self,a,b):\n",
    "        self.a = a\n",
    "        self.b = b\n",
    "    def func(self):\n",
    "        if self.a <= 18:\n",
    "            print(self.a,\":年轻\")\n",
    "        elif 18<a<40:\n",
    "            print(self.a,\":中年\")\n",
    "        else:\n",
    "            print(self.a,\":老年\")\n",
    "    def func1(self):\n",
    "        if self.b == 0:\n",
    "            print(\"man\")\n",
    "        elif self.b == 1:\n",
    "            print(\"woman\")\n",
    "        else:\n",
    "            print(\"未知\")\n",
    "            \n",
    "vera = vera(13,0)\n",
    "vera.func()\n",
    "vera.func1()"
   ]
  },
  {
   "cell_type": "markdown",
   "metadata": {},
   "source": [
    "-------------"
   ]
  },
  {
   "cell_type": "code",
   "execution_count": 7,
   "metadata": {},
   "outputs": [],
   "source": [
    "class number(object):\n",
    "    def __init__(self,num):\n",
    "        for i in range(2,num):\n",
    "            if(num%i == 0):\n",
    "                print('不是素数')\n",
    "                break\n",
    "            else:\n",
    "                print('是素数')\n",
    "                break"
   ]
  },
  {
   "cell_type": "code",
   "execution_count": 8,
   "metadata": {},
   "outputs": [
    {
     "name": "stdout",
     "output_type": "stream",
     "text": [
      "是素数\n"
     ]
    },
    {
     "data": {
      "text/plain": [
       "<__main__.number at 0x17628cbe278>"
      ]
     },
     "execution_count": 8,
     "metadata": {},
     "output_type": "execute_result"
    }
   ],
   "source": [
    "number(9)"
   ]
  },
  {
   "cell_type": "markdown",
   "metadata": {},
   "source": [
    "-------"
   ]
  },
  {
   "cell_type": "markdown",
   "metadata": {},
   "source": [
    "## HOMEWORK"
   ]
  },
  {
   "cell_type": "code",
   "execution_count": 5,
   "metadata": {},
   "outputs": [],
   "source": [
    "\"\"\"\n",
    " 王者农药\n",
    " 人机对战\n",
    " 1.点击人机对战的按钮(输入)\n",
    " 2.挑选人物(典韦,赵云,鲁班)\n",
    " 3.显示战力,技能,防御\n",
    " 4.人物确定,随机出1个人机，包括战力,名字...等信息显示\n",
    " 5.点击开始按钮..\n",
    " 6.进入加载页面...\n",
    "\"\"\"\n",
    "import numpy as np\n",
    "class wangzhe(object):\n",
    "    def duizhan(self):\n",
    "        choose = input('请选择对战模式：人机 or 多人')\n",
    "        print(choose)\n",
    "    def tiaoxuan(self):\n",
    "        a = input('请选择人物：典韦，赵云，鲁班')\n",
    "        if a == '典韦':\n",
    "            print(a ,\":战力--1500，防御--1647\")\n",
    "        elif a == '赵云':\n",
    "            print(a , \":战力--1700，防御--1541\")\n",
    "        else:\n",
    "            print(a , \":战力--2453，防御--876\")\n",
    "    def suiji(self):\n",
    "        res = np.random.choice(['典韦','赵云','鲁班'])\n",
    "        if res == '典韦':\n",
    "            print(res,\":战力--1500，防御--1647\")\n",
    "        elif res == '赵云':\n",
    "            print(res , \":战力--1700，防御--1541\")\n",
    "        else:\n",
    "            print(res , \":战力--2453，防御--876\")\n",
    "    def start(self):\n",
    "        b = input('请输入开始:')\n",
    "        print(b,\"进入加载项......\")\n",
    "\n",
    "        "
   ]
  },
  {
   "cell_type": "code",
   "execution_count": 6,
   "metadata": {},
   "outputs": [
    {
     "name": "stdout",
     "output_type": "stream",
     "text": [
      "请选择对战模式：人机 or 多人人机\n",
      "人机\n",
      "请选择人物：典韦，赵云，鲁班赵云\n",
      "赵云 :战力--1700，防御--1541\n",
      "鲁班 :战力--2453，防御--876\n",
      "请输入开始:开始\n",
      "开始 进入加载项......\n"
     ]
    }
   ],
   "source": [
    "a = wangzhe()\n",
    "a.duizhan()\n",
    "a.tiaoxuan()\n",
    "a.suiji()\n",
    "a.start()"
   ]
  },
  {
   "cell_type": "code",
   "execution_count": 7,
   "metadata": {},
   "outputs": [
    {
     "name": "stdout",
     "output_type": "stream",
     "text": [
      "1  5  12  22  35  51  70  92  117  145  \n",
      "176  210  247  287  330  376  425  477  532  590  \n",
      "651  715  782  852  925  1001  1080  1162  1247  1335  \n",
      "1426  1520  1617  1717  1820  1926  2035  2147  2262  2380  \n",
      "2501  2625  2752  2882  3015  3151  3290  3432  3577  3725  \n",
      "3876  4030  4187  4347  4510  4676  4845  5017  5192  5370  \n",
      "5551  5735  5922  6112  6305  6501  6700  6902  7107  7315  \n",
      "7526  7740  7957  8177  8400  8626  8855  9087  9322  9560  \n",
      "9801  10045  10292  10542  10795  11051  11310  11572  11837  12105  \n",
      "12376  12650  12927  13207  13490  13776  14065  14357  14652  14950  \n"
     ]
    }
   ],
   "source": [
    "\"\"\"\n",
    "数学：五角数\n",
    "      一个五角数被定义为n(3n-1)/2,其中n=1、2、...\n",
    "      所以开始的几个数是1、5、12、22、...编写一个带下面函数头的函数返回五角数\n",
    "      def getPentagona Number(n):\n",
    "      编写一个测试程序来使用这个函数显示前100个五角数，每行显示10个\n",
    "\"\"\"\n",
    "def getPentagonaNumber(n):\n",
    "    c = n*(3*n-1)/2\n",
    "    print(int(c),end='  ')\n",
    "    if n % 10 == 0:\n",
    "        print(end = '\\n')\n",
    "        \n",
    "for i in range(1,101):\n",
    "    getPentagonaNumber(i)"
   ]
  },
  {
   "cell_type": "markdown",
   "metadata": {},
   "source": [
    "----"
   ]
  },
  {
   "cell_type": "code",
   "execution_count": 48,
   "metadata": {},
   "outputs": [],
   "source": [
    "\"\"\"\n",
    "（求一个整数各个数字的和）编写一个函数，计算一个整数各个数字的和。\n",
    "使用下面的函数头：def sumDigits (n):\n",
    "例如：sumDigits (234)返回9（2+3+4）\n",
    "\"\"\"\n",
    "def sumDigits ():\n",
    "    input_num = input('请输入数字：')\n",
    "    sum_num = 0\n",
    "    if input_num.isdigit():\n",
    "        for i in range(len(input_num)):\n",
    "            cut_num = input_num[i:i + 1]\n",
    "            sum_num = sum_num + int(cut_num)\n",
    "            print ('输入了' + str(len(input_num)) + '个数字\\nsum_num=' + str(sum_num))\n",
    "    else:\n",
    "        print(\"再见\")"
   ]
  },
  {
   "cell_type": "code",
   "execution_count": 49,
   "metadata": {},
   "outputs": [
    {
     "name": "stdout",
     "output_type": "stream",
     "text": [
      "请输入数字：345\n",
      "输入了3个数字\n",
      "sum_num=3\n",
      "输入了3个数字\n",
      "sum_num=7\n",
      "输入了3个数字\n",
      "sum_num=12\n"
     ]
    }
   ],
   "source": [
    "sumDigits()"
   ]
  },
  {
   "cell_type": "markdown",
   "metadata": {},
   "source": [
    "----"
   ]
  },
  {
   "cell_type": "code",
   "execution_count": 116,
   "metadata": {},
   "outputs": [],
   "source": [
    "\"\"\"\n",
    "编写一个测试程序，提示用户输入三个整数，然后调用函数按升序显示三个数\n",
    "\"\"\"\n",
    "def displaySortedNumber():\n",
    "    num1 = int(input('Enter frist numbers:'))\n",
    "    num2 = int(input('Enter second numbers:'))\n",
    "    num3 = int(input('Enter thrid numbers:'))\n",
    "    nums = [num1,num2,num3]\n",
    "    nums.sort()\n",
    "    print(nums)"
   ]
  },
  {
   "cell_type": "code",
   "execution_count": 117,
   "metadata": {},
   "outputs": [
    {
     "name": "stdout",
     "output_type": "stream",
     "text": [
      "Enter frist numbers:1\n",
      "Enter second numbers:743\n",
      "Enter thrid numbers:24\n",
      "[1, 24, 743]\n"
     ]
    }
   ],
   "source": [
    "displaySortedNumber()"
   ]
  },
  {
   "cell_type": "markdown",
   "metadata": {},
   "source": [
    "----"
   ]
  },
  {
   "cell_type": "code",
   "execution_count": 134,
   "metadata": {},
   "outputs": [],
   "source": [
    "\"\"\"\n",
    "编写一个函数计算制定年数给定的利率来计算未来投资值\n",
    "然后输出一份表格显示年份从1-30年的未来值\n",
    "\"\"\"\n",
    "import numpy as np\n",
    "#import prettytable as pt\n",
    "def futureInvestmentValue():\n",
    "    a = int(input('The amount invested:'))\n",
    "    b = float(input('Annual interest rate:'))\n",
    "    for i in range(1,31):\n",
    "        future_value = np.fv(rate=b,nper=i,pmt=0,pv=-(a))\n",
    "        res = round(future_value,2)\n",
    "        #tb = pt.prettytable()\n",
    "        #tb.field_names = ['Years','Future Value']\n",
    "        #print(tb,res)\n",
    "        print(res)"
   ]
  },
  {
   "cell_type": "code",
   "execution_count": 135,
   "metadata": {},
   "outputs": [
    {
     "name": "stdout",
     "output_type": "stream",
     "text": [
      "The amount invested:10000\n",
      "Annual interest rate:0.05\n",
      "10500.0\n",
      "11025.0\n",
      "11576.25\n",
      "12155.06\n",
      "12762.82\n",
      "13400.96\n",
      "14071.0\n",
      "14774.55\n",
      "15513.28\n",
      "16288.95\n",
      "17103.39\n",
      "17958.56\n",
      "18856.49\n",
      "19799.32\n",
      "20789.28\n",
      "21828.75\n",
      "22920.18\n",
      "24066.19\n",
      "25269.5\n",
      "26532.98\n",
      "27859.63\n",
      "29252.61\n",
      "30715.24\n",
      "32251.0\n",
      "33863.55\n",
      "35556.73\n",
      "37334.56\n",
      "39201.29\n",
      "41161.36\n",
      "43219.42\n"
     ]
    }
   ],
   "source": [
    "futureInvestmentValue()"
   ]
  },
  {
   "cell_type": "code",
   "execution_count": 8,
   "metadata": {},
   "outputs": [
    {
     "name": "stdout",
     "output_type": "stream",
     "text": [
      "2  3  4  5  6  7  8  9  :  ;\n",
      "<  =  >  ?  @  A  B  C  D  E\n",
      "F  G  H  I  J  K  L  M  N  O\n",
      "P  Q  R  S  T  U  V  W  X  Y\n"
     ]
    }
   ],
   "source": [
    "\"\"\"\n",
    "打印ch1到ch2之间的字符，按每行指定某个数来打印。\n",
    "编写一个测试程序，打印“1”到“Z”的字符，每行打印10个\n",
    "\"\"\"\n",
    "def printChars(ch1,ch2,num):\n",
    "    q=ord(ch1)+1\n",
    "    w=ord(ch2)\n",
    "    n=0\n",
    "    for i in range(q,w):\n",
    "        n=n+1\n",
    "        if n%num !=0:\n",
    "            print(chr(i),end='  ')\n",
    "        else:\n",
    "            print(chr(i))\n",
    "        \n",
    "printChars('1','Z',10)"
   ]
  },
  {
   "cell_type": "code",
   "execution_count": 152,
   "metadata": {},
   "outputs": [],
   "source": [
    "\"\"\"\n",
    "显示从2010年到2020年每年的天数\n",
    "\"\"\"\n",
    "def numberOfDaysInAYear():\n",
    "    for i in range(2010,2021):\n",
    "        if i % 4 == 0 and i%100 != 0:\n",
    "            print(i , '年',':366天')\n",
    "        else:\n",
    "            print(i , '年',':365天')"
   ]
  },
  {
   "cell_type": "code",
   "execution_count": 153,
   "metadata": {},
   "outputs": [
    {
     "name": "stdout",
     "output_type": "stream",
     "text": [
      "2010 年 :365天\n",
      "2011 年 :365天\n",
      "2012 年 :366天\n",
      "2013 年 :365天\n",
      "2014 年 :365天\n",
      "2015 年 :365天\n",
      "2016 年 :366天\n",
      "2017 年 :365天\n",
      "2018 年 :365天\n",
      "2019 年 :365天\n",
      "2020 年 :366天\n"
     ]
    }
   ],
   "source": [
    "numberOfDaysInAYear()"
   ]
  },
  {
   "cell_type": "markdown",
   "metadata": {},
   "source": [
    "---"
   ]
  },
  {
   "cell_type": "code",
   "execution_count": 169,
   "metadata": {},
   "outputs": [],
   "source": [
    "\"\"\"\n",
    "用函数计算两点之间的距离\n",
    "\"\"\"\n",
    "import math\n",
    "def distance(x1,y1,x2,y2):\n",
    "    \n",
    "    d_x = x1 - x2\n",
    "    d_y = y1 - y2\n",
    "    #计算两点之间的距离\n",
    "    distance = math.sqrt(d_x**2 + d_y**2)\n",
    "    print(distance)"
   ]
  },
  {
   "cell_type": "code",
   "execution_count": 170,
   "metadata": {},
   "outputs": [
    {
     "name": "stdout",
     "output_type": "stream",
     "text": [
      "3.1622776601683795\n"
     ]
    }
   ],
   "source": [
    "distance(2,3,3,6)"
   ]
  },
  {
   "cell_type": "markdown",
   "metadata": {},
   "source": [
    "---"
   ]
  },
  {
   "cell_type": "code",
   "execution_count": 9,
   "metadata": {},
   "outputs": [
    {
     "name": "stdout",
     "output_type": "stream",
     "text": [
      "2 3\n",
      "3 7\n",
      "5 31\n",
      "7 127\n",
      "11 2047\n",
      "13 8191\n",
      "17 131071\n",
      "19 524287\n",
      "23 8388607\n",
      "29 536870911\n",
      "31 2147483647\n"
     ]
    }
   ],
   "source": [
    "\"\"\"\n",
    "梅森素数：如果一个素数可以写成2^(p-1)的形式，其中p是某个正整数，那么这个数就被称作梅森素数.\n",
    "编写程序找出所有p<=31的梅森素数\n",
    "\"\"\"\n",
    "def meisen(p):\n",
    "    q=pow(2,p)-1\n",
    "    m=2\n",
    "    if p==2:\n",
    "        print(p,q)\n",
    "    for i in range(2,p):\n",
    "        m=m+1\n",
    "        if p%i==0:\n",
    "            break\n",
    "        if m == p:\n",
    "            print(p,q)\n",
    "            \n",
    "for p in range(1,32):\n",
    "    meisen(p)"
   ]
  },
  {
   "cell_type": "code",
   "execution_count": 10,
   "metadata": {},
   "outputs": [
    {
     "name": "stdout",
     "output_type": "stream",
     "text": [
      "1565169354.3681166\n",
      "Cuurrent date and time is 2019 年 8 月 7 日 17 : 15 : 54\n"
     ]
    }
   ],
   "source": [
    "\"\"\"\n",
    "调用time.time()返回1970年1月1日0点开始的毫秒数。\n",
    "\"\"\"\n",
    "import time\n",
    "print(time.time())\n",
    "\"\"\"\n",
    " time.localtime(time.time())输出结果为\n",
    " time.struct_time(tm_year=2019, tm_mon=8, \n",
    " tm_mday=6, tm_hour=19, tm_min=21, tm_sec=46, \n",
    " tm_wday=1, tm_yday=218, tm_isdst=0)\n",
    "\"\"\"\n",
    "time = time.localtime(time.time())\n",
    "print(\"Cuurrent date and time is\",time.tm_year,\"年\",\n",
    "      time.tm_mon,\"月\",time.tm_mday,\"日\",\n",
    "      time.tm_hour,\":\",time.tm_min,\":\",time.tm_sec)"
   ]
  },
  {
   "cell_type": "code",
   "execution_count": 11,
   "metadata": {},
   "outputs": [
    {
     "name": "stdout",
     "output_type": "stream",
     "text": [
      "您第一次抛出的点数为: 1\n",
      "您第二次抛出的点数为: 4\n",
      "您抛出的两次点数之和为： 5\n",
      "您第一次抛出的点数为: 3\n",
      "您第二次抛出的点数为: 2\n",
      "您抛出的两次点数之和为： 5\n",
      "你赢了！！！\n"
     ]
    }
   ],
   "source": [
    "\"\"\"\n",
    "投色子\n",
    "\"\"\"\n",
    "import numpy as np\n",
    "def dianshu():\n",
    "    res1 = np.random.choice([1,2,3,4,5,6])\n",
    "    print(\"您第一次抛出的点数为:\",res1)\n",
    "    res2 = np.random.choice([1,2,3,4,5,6])\n",
    "    print(\"您第二次抛出的点数为:\",res2)\n",
    "    res = res1 + res2\n",
    "    print(\"您抛出的两次点数之和为：\",res)\n",
    "    return res\n",
    "res = dianshu()\n",
    "if res==2 or res==3 or res==12:\n",
    "    print(\"你输了！！！\")\n",
    "elif res==7 or res==11:\n",
    "    print(\"你赢了！！！\")\n",
    "else:\n",
    "    res3 = res\n",
    "    res = dianshu()\n",
    "    if res ==7 or res == res3:\n",
    "        print(\"你赢了！！！\")\n",
    "    else:\n",
    "        print(\"请开始下一局！\")"
   ]
  },
  {
   "cell_type": "code",
   "execution_count": null,
   "metadata": {},
   "outputs": [],
   "source": []
  }
 ],
 "metadata": {
  "kernelspec": {
   "display_name": "Python 3",
   "language": "python",
   "name": "python3"
  },
  "language_info": {
   "codemirror_mode": {
    "name": "ipython",
    "version": 3
   },
   "file_extension": ".py",
   "mimetype": "text/x-python",
   "name": "python",
   "nbconvert_exporter": "python",
   "pygments_lexer": "ipython3",
   "version": "3.6.4"
  }
 },
 "nbformat": 4,
 "nbformat_minor": 2
}
