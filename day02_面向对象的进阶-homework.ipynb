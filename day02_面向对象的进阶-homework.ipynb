{
 "cells": [
  {
   "cell_type": "code",
   "execution_count": null,
   "metadata": {},
   "outputs": [],
   "source": [
    "import random\n",
    "\n",
    "class Regist(object):\n",
    "    \"\"\"\n",
    "    Implementation resgist in 163.\n",
    "    \"\"\"\n",
    "    def account(self):\n",
    "        \"\"\"\n",
    "        Input account.\n",
    "        \"\"\"\n",
    "        # 检测邮箱的正确性.\n",
    "        # input 返回出来的是一个字符串\n",
    "        email = input('请输入邮箱:>>')\n",
    "        print('📮 您输入的邮箱是: %s' % email)\n",
    "        self.password()\n",
    "    def password(self):\n",
    "        \"\"\"\n",
    "        input passward,\n",
    "        \"\"\"\n",
    "        # 密码的长度必须是6-20位\n",
    "        # 密码必须含有大写小写字母以及数字.\n",
    "        for _ in range(4):\n",
    "            password_1 = input('请输入您的密码:>>')\n",
    "            password_2 = input('请输入确认密码:>>')\n",
    "            if password_1 == password_2:\n",
    "                print('密码确认成功')\n",
    "                self.verfily()\n",
    "                break\n",
    "            else:\n",
    "                print('两次密码不一致')\n",
    "        else:\n",
    "            print('您可能是一个机器人滚😡')\n",
    "\n",
    "    def verfily(self):\n",
    "        \"\"\"\n",
    "        ver...\n",
    "        \"\"\"\n",
    "        # 英文和数字的结合\n",
    "        # 给予一个简单的数学运算得到结果.\n",
    "        for _ in range(3):\n",
    "            number = random.randrange(1000,9999)\n",
    "            print('验证码是: %d'%number)\n",
    "            number_2 = input('输入验证码:>>')\n",
    "            if number == int(number_2):\n",
    "                print('注册成功')\n",
    "                break\n",
    "            else:\n",
    "                print('验证码错误')\n",
    "        else:\n",
    "            print('机器人😡')\n",
    "\n",
    "def main():\n",
    "    regist = Regist()\n",
    "    regist.account()\n",
    "\n",
    "\n",
    "main()"
   ]
  },
  {
   "cell_type": "code",
   "execution_count": 1,
   "metadata": {},
   "outputs": [],
   "source": [
    "\"\"\"\n",
    "使用装饰器的时候，需要注意：\n",
    "    1. 装饰器名，函数名需要一致.\n",
    "    2. property需要先声明，再写setter，顺序不能倒过来\n",
    "    3. 如果你希望一点变量只是被访问不能被修改,那么可以使用访问器@property\n",
    "    4. 如果要修改访问器中的变量,可以搭建一个修改器,或者删除访问器.\n",
    "\"\"\"\n",
    "class number(object):\n",
    "    def __init__(self,num1,num2,num3):\n",
    "        self._num1 = num1\n",
    "        self.__num2 = num2\n",
    "        self.__num3 = num3\n",
    "# 访问器 - getter方法\n",
    "    @property\n",
    "    def num1(self):\n",
    "        print(self._num1)\n",
    "# 修改器 - setter方法\n",
    "    @num1.setter\n",
    "    def num1(self,num):\n",
    "        self._num1 = num\n",
    "    \n",
    "    def SUM(self):\n",
    "        print(self._num1 + self.__num2 +self.__num3)"
   ]
  },
  {
   "cell_type": "code",
   "execution_count": 2,
   "metadata": {},
   "outputs": [
    {
     "name": "stdout",
     "output_type": "stream",
     "text": [
      "1005\n"
     ]
    }
   ],
   "source": [
    "number = number(1,2,3)\n",
    "number.num1 = 1000\n",
    "number.SUM()"
   ]
  },
  {
   "cell_type": "markdown",
   "metadata": {},
   "source": [
    "---"
   ]
  },
  {
   "cell_type": "markdown",
   "metadata": {},
   "source": [
    "# Homework"
   ]
  },
  {
   "cell_type": "code",
   "execution_count": 35,
   "metadata": {},
   "outputs": [],
   "source": [
    "\"\"\"\n",
    "设计一个名为Rectangle类来表示矩形，这个类包括：\n",
    "两个名为width和height的数据域\n",
    "构造方法创建一个指定width和height的矩形。将1和2分别作为width和height的默认值。\n",
    "一个名为getArea()的方法来返回这个矩形的面积\n",
    "一个名为getPerimeter()的方法返回周长\n",
    "\"\"\"\n",
    "class Rectangle(object):\n",
    "    def __init__ (self,width,height):\n",
    "        self.width = width\n",
    "        self.height = height\n",
    "        #self.width = 1\n",
    "        #self.height = 2\n",
    "    def getArea(self):\n",
    "        area = (self.width + self.height) * 2\n",
    "        print('该矩形的宽：',self.width ,'该矩形的高：',self.height,'该矩形的周长：',area)\n",
    "    def getPerimeter(self):\n",
    "        perimeter = self.width *self.height\n",
    "        print('该矩形的宽：',self.width ,'该矩形的高：',self.height,'该矩形的面积：',perimeter)"
   ]
  },
  {
   "cell_type": "code",
   "execution_count": 40,
   "metadata": {},
   "outputs": [
    {
     "name": "stdout",
     "output_type": "stream",
     "text": [
      "该矩形的宽： 4 该矩形的高： 40 该矩形的周长： 88\n",
      "该矩形的宽： 4 该矩形的高： 40 该矩形的面积： 160\n",
      "该矩形的宽： 3.5 该矩形的高： 35.7 该矩形的周长： 78.4\n",
      "该矩形的宽： 3.5 该矩形的高： 35.7 该矩形的面积： 124.95000000000002\n"
     ]
    }
   ],
   "source": [
    "Rectangle_1 = Rectangle(4,40)\n",
    "Rectangle_1.getArea()\n",
    "Rectangle_1.getPerimeter()\n",
    "Rectangle_2 = Rectangle(3.5,35.7)\n",
    "Rectangle_2.getArea()\n",
    "Rectangle_2.getPerimeter()"
   ]
  },
  {
   "cell_type": "markdown",
   "metadata": {},
   "source": [
    "---"
   ]
  },
  {
   "cell_type": "code",
   "execution_count": null,
   "metadata": {},
   "outputs": [],
   "source": [
    "\"\"\"\n",
    "设计一个名为Account的类，包括：\n",
    "账户的一个名为id的私有int数据域；\n",
    "账户的一个名为balance的私有浮点数据领域；\n",
    "一个名为annuallnterestRate的私有浮点数据域存储当前利率；\n",
    "一个构造方法创建具有特定id(默认值0)、初始额(默认值100)以及年利率(默认值0)；\n",
    "id、balance和annuallnterestRate的访问器和修改器；\n",
    "一个名为getMonthlyInterestRate()的方法返回月利率；\n",
    "一个名为getMonthlyInterest()的方法返回月利息；\n",
    "一个名为withdraw的方法从账户取出指定数额；\n",
    "一个名为deposit的方法向账户存入指定数额。\n",
    "\"\"\"\n",
    "class Account(object):\n",
    "    def __init__(self):\n",
    "        self.lixi = 0\n",
    "        self.cse = 100\n",
    "        self.nlv = 0\n",
    "    def id_name(self,id,shuju):\n",
    "        self.__shuju = shuju \n",
    "        self.__id = id\n",
    "    def balance(self):\n",
    "        pass\n",
    "    def annuallnterestRate(self,nlv):\n",
    "        pass\n",
    "    def getMonthlyInterestRate(self,nlv):\n",
    "        self.nlv = nlv\n",
    "    def getMonthlyInterest(self):\n",
    "        a = self.cse *self.nlv\n",
    "        self.lixi = a\n",
    "    def withdraw(self):\n",
    "        print(\"请输入所取金额\")\n",
    "        b = input(\"金额为：\")\n",
    "        \n",
    "    def deposit(self):\n",
    "        pass"
   ]
  },
  {
   "cell_type": "code",
   "execution_count": 44,
   "metadata": {},
   "outputs": [],
   "source": [
    "\"\"\"\n",
    "设计一个名为Fan的类表示一个风扇\n",
    "\"\"\"\n",
    "class Fan(object):\n",
    "    def __init__(self):\n",
    "        self.speed =1\n",
    "        self.on = False\n",
    "        self.radius = 5\n",
    "        self.color = 'blue'\n",
    "    def fengshan(self,speed,on,radius,color):\n",
    "        self.speed = speed\n",
    "        self.on = on\n",
    "        self.radius = radius\n",
    "        self.color = color\n",
    "    def toString(self):\n",
    "        if self.speed == 3:\n",
    "            speed_res = 'fast'\n",
    "            print(speed_res,self.radius,self.color,self.on)\n",
    "        elif self.speed == 2:\n",
    "            speed_res = 'medium'\n",
    "            print(speed_res,self.radius,self.color,self.on)\n",
    "        else :\n",
    "            speed_res = 'slow'\n",
    "            print(speed_res,self.radius,self.color,self.on)"
   ]
  },
  {
   "cell_type": "code",
   "execution_count": 47,
   "metadata": {},
   "outputs": [
    {
     "name": "stdout",
     "output_type": "stream",
     "text": [
      "fast yellow True 10\n",
      "medium blue False 5\n"
     ]
    }
   ],
   "source": [
    "a = Fan()\n",
    "a.fengshan(3,10,'yellow',True)\n",
    "a.toString()\n",
    "b = Fan()\n",
    "b.fengshan(2,5,'blue',False)\n",
    "b.toString()"
   ]
  },
  {
   "cell_type": "markdown",
   "metadata": {},
   "source": [
    "---"
   ]
  },
  {
   "cell_type": "code",
   "execution_count": 62,
   "metadata": {},
   "outputs": [],
   "source": [
    "\"\"\"\n",
    "一个正n边形的边都有同样的长度，所有的角都有同样的度数(即多边形是等角的)\n",
    "设计一个名为RegularPolygon的类\n",
    "\"\"\"\n",
    "import math\n",
    "class RegularPolygon(object):\n",
    "    def __init__(self,n=3,side=1,x=0,y=0):\n",
    "        self.n = n\n",
    "        self.side = side\n",
    "        self.x = x\n",
    "        self.y = y\n",
    "    def getPerimeter(self):\n",
    "        perimeter = self.n + self.side + self.x + self.y\n",
    "        print(\"多边形的周长为：\",perimeter)\n",
    "    def getArea(self):\n",
    "        area = (self.n * (self.side**2))/4 * (math.tan((3.14/self.n)))\n",
    "        print(\"多边形的面积：\",area)"
   ]
  },
  {
   "cell_type": "code",
   "execution_count": 65,
   "metadata": {},
   "outputs": [
    {
     "name": "stdout",
     "output_type": "stream",
     "text": [
      "多边形的周长为： 4\n",
      "多边形的面积： 1.2974469150673424\n",
      "多边形的周长为： 98.5\n",
      "多边形的面积： 16.440146060806903\n"
     ]
    }
   ],
   "source": [
    "a = RegularPolygon(3,1,0,0)\n",
    "a.getPerimeter()\n",
    "a.getArea()\n",
    "b = RegularPolygon(10,4.5,6,78)\n",
    "b.getPerimeter()\n",
    "b.getArea()"
   ]
  },
  {
   "cell_type": "markdown",
   "metadata": {},
   "source": [
    "---"
   ]
  },
  {
   "cell_type": "code",
   "execution_count": 66,
   "metadata": {},
   "outputs": [],
   "source": [
    "\"\"\"\n",
    "设计一个名为LinearEquation的类\n",
    "\"\"\"\n",
    "class LinearEquation(object):\n",
    "    def __init__(self,a,b,c,d,e,f):\n",
    "        self.a = a\n",
    "        self.b = b\n",
    "        self.c = c\n",
    "        self.d = d\n",
    "        self.e = e\n",
    "        self.f = f\n",
    "        \n",
    "    def isSolvable(self):\n",
    "        z = (self.a*self.d) - (self.b*self.c) \n",
    "        if z != 0:\n",
    "            self.z = True\n",
    "        else:\n",
    "            self.z = False\n",
    "    def getX(self):\n",
    "        self.x=(self.e*self.d-self.b*self.f)/(self.a*self.d-self.b*self.c)\n",
    "        self.isSolvable()\n",
    "        if self.z == True:\n",
    "            self.get()\n",
    "            print(self.x)\n",
    "        else:\n",
    "            pass\n",
    "    def getY(self):\n",
    "        self.y=(self.a*self.f-self.e*self.c)/(self.a*self.d-self.b*self.c)\n",
    "        elf.isSolvable()\n",
    "        if self.z == True:\n",
    "            self.get()\n",
    "            print(self.y)\n",
    "        else:\n",
    "            pass\n",
    "    "
   ]
  },
  {
   "cell_type": "code",
   "execution_count": 69,
   "metadata": {
    "collapsed": true
   },
   "outputs": [
    {
     "ename": "AttributeError",
     "evalue": "'LinearEquation' object has no attribute 'get'",
     "output_type": "error",
     "traceback": [
      "\u001b[1;31m---------------------------------------------------------------------------\u001b[0m",
      "\u001b[1;31mAttributeError\u001b[0m                            Traceback (most recent call last)",
      "\u001b[1;32m<ipython-input-69-c3958eb30199>\u001b[0m in \u001b[0;36m<module>\u001b[1;34m()\u001b[0m\n\u001b[0;32m      1\u001b[0m \u001b[0ma\u001b[0m \u001b[1;33m=\u001b[0m \u001b[0mLinearEquation\u001b[0m\u001b[1;33m(\u001b[0m\u001b[1;36m1\u001b[0m\u001b[1;33m,\u001b[0m\u001b[1;36m2\u001b[0m\u001b[1;33m,\u001b[0m\u001b[1;36m3\u001b[0m\u001b[1;33m,\u001b[0m\u001b[1;36m4\u001b[0m\u001b[1;33m,\u001b[0m\u001b[1;36m5\u001b[0m\u001b[1;33m,\u001b[0m\u001b[1;36m6\u001b[0m\u001b[1;33m)\u001b[0m\u001b[1;33m\u001b[0m\u001b[0m\n\u001b[1;32m----> 2\u001b[1;33m \u001b[0ma\u001b[0m\u001b[1;33m.\u001b[0m\u001b[0mgetX\u001b[0m\u001b[1;33m(\u001b[0m\u001b[1;33m)\u001b[0m\u001b[1;33m\u001b[0m\u001b[0m\n\u001b[0m\u001b[0;32m      3\u001b[0m \u001b[0ma\u001b[0m\u001b[1;33m.\u001b[0m\u001b[0mgetY\u001b[0m\u001b[1;33m(\u001b[0m\u001b[1;33m)\u001b[0m\u001b[1;33m\u001b[0m\u001b[0m\n",
      "\u001b[1;32m<ipython-input-66-88af1268ee4d>\u001b[0m in \u001b[0;36mgetX\u001b[1;34m(self)\u001b[0m\n\u001b[0;32m     21\u001b[0m         \u001b[0mself\u001b[0m\u001b[1;33m.\u001b[0m\u001b[0misSolvable\u001b[0m\u001b[1;33m(\u001b[0m\u001b[1;33m)\u001b[0m\u001b[1;33m\u001b[0m\u001b[0m\n\u001b[0;32m     22\u001b[0m         \u001b[1;32mif\u001b[0m \u001b[0mself\u001b[0m\u001b[1;33m.\u001b[0m\u001b[0mz\u001b[0m \u001b[1;33m==\u001b[0m \u001b[1;32mTrue\u001b[0m\u001b[1;33m:\u001b[0m\u001b[1;33m\u001b[0m\u001b[0m\n\u001b[1;32m---> 23\u001b[1;33m             \u001b[0mself\u001b[0m\u001b[1;33m.\u001b[0m\u001b[0mget\u001b[0m\u001b[1;33m(\u001b[0m\u001b[1;33m)\u001b[0m\u001b[1;33m\u001b[0m\u001b[0m\n\u001b[0m\u001b[0;32m     24\u001b[0m             \u001b[0mprint\u001b[0m\u001b[1;33m(\u001b[0m\u001b[0mself\u001b[0m\u001b[1;33m.\u001b[0m\u001b[0mx\u001b[0m\u001b[1;33m)\u001b[0m\u001b[1;33m\u001b[0m\u001b[0m\n\u001b[0;32m     25\u001b[0m         \u001b[1;32melse\u001b[0m\u001b[1;33m:\u001b[0m\u001b[1;33m\u001b[0m\u001b[0m\n",
      "\u001b[1;31mAttributeError\u001b[0m: 'LinearEquation' object has no attribute 'get'"
     ]
    }
   ],
   "source": [
    "a = LinearEquation(1,2,3,4,5,6)\n",
    "a.getX()\n",
    "a.getY()"
   ]
  },
  {
   "cell_type": "markdown",
   "metadata": {},
   "source": [
    "-----"
   ]
  },
  {
   "cell_type": "code",
   "execution_count": 70,
   "metadata": {},
   "outputs": [
    {
     "data": {
      "text/plain": [
       "(2.0, 3.0)"
      ]
     },
     "execution_count": 70,
     "metadata": {},
     "output_type": "execute_result"
    }
   ],
   "source": [
    "\"\"\"\n",
    "求两个线段的交点\n",
    "\"\"\"\n",
    "import numpy as np\n",
    "def get_crossing(s1,s2):\n",
    "    xa,ya = s1[0][0],s1[0][1]\n",
    "    xb,yb = s1[1][0],s1[1][1]\n",
    "    xc,yc = s2[0][0],s2[0][1]\n",
    "    xd,yd = s2[1][0],s2[1][1]\n",
    "    #判断两条直线是否相交，矩阵行列式计算\n",
    "    a = np.matrix(\n",
    "        [\n",
    "            [xb-xa,-(xd-xc)],\n",
    "            [yb-ya,-(yd-yc)]\n",
    "        ]\n",
    "    )\n",
    "    delta = np.linalg.det(a)\n",
    "    #不相交,返回两线段\n",
    "    if np.fabs(delta) < 1e-6:\n",
    "        print(delta)\n",
    "        return None        \n",
    "    #求两个参数lambda和miu\n",
    "    c = np.matrix(\n",
    "        [\n",
    "            [xc-xa,-(xd-xc)],\n",
    "            [yc-ya,-(yd-yc)]\n",
    "        ]\n",
    "    )\n",
    "    d = np.matrix(\n",
    "        [\n",
    "            [xb-xa,xc-xa],\n",
    "            [yb-ya,yc-ya]\n",
    "        ]\n",
    "    )\n",
    "    lamb = np.linalg.det(c)/delta\n",
    "    miu = np.linalg.det(d)/delta\n",
    "    #相交\n",
    "    if lamb <= 1 and lamb >= 0 and miu >= 0 and miu <= 1:\n",
    "        x = xc + miu*(xd-xc)\n",
    "        y = yc + miu*(yd-yc)\n",
    "        return (x,y)\n",
    "    #相交在延长线上\n",
    "    else:\n",
    "        return None\n",
    "get_crossing(((1,2),(3,4)),((1,4),(2,3)))"
   ]
  },
  {
   "cell_type": "code",
   "execution_count": null,
   "metadata": {},
   "outputs": [],
   "source": []
  }
 ],
 "metadata": {
  "kernelspec": {
   "display_name": "Python 3",
   "language": "python",
   "name": "python3"
  },
  "language_info": {
   "codemirror_mode": {
    "name": "ipython",
    "version": 3
   },
   "file_extension": ".py",
   "mimetype": "text/x-python",
   "name": "python",
   "nbconvert_exporter": "python",
   "pygments_lexer": "ipython3",
   "version": "3.6.4"
  }
 },
 "nbformat": 4,
 "nbformat_minor": 2
}
